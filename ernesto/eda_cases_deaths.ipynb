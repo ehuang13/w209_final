{
 "cells": [
  {
   "cell_type": "code",
   "execution_count": 1,
   "metadata": {},
   "outputs": [],
   "source": [
    "import pandas as pd\n",
    "import numpy as np\n",
    "import matplotlib.pyplot as plt"
   ]
  },
  {
   "cell_type": "code",
   "execution_count": 2,
   "metadata": {},
   "outputs": [],
   "source": [
    "data_cases = pd.read_csv(\"covid_confirmed_usafacts.csv\")\n",
    "data_deaths = pd.read_csv(\"covid_deaths_usafacts.csv\")\n",
    "#data_usmap = pd.read_csv(\"./static/data/US_MAP_DATA.csv\")"
   ]
  },
  {
   "cell_type": "code",
   "execution_count": 3,
   "metadata": {
    "scrolled": true
   },
   "outputs": [
    {
     "data": {
      "text/html": [
       "<div>\n",
       "<style scoped>\n",
       "    .dataframe tbody tr th:only-of-type {\n",
       "        vertical-align: middle;\n",
       "    }\n",
       "\n",
       "    .dataframe tbody tr th {\n",
       "        vertical-align: top;\n",
       "    }\n",
       "\n",
       "    .dataframe thead th {\n",
       "        text-align: right;\n",
       "    }\n",
       "</style>\n",
       "<table border=\"1\" class=\"dataframe\">\n",
       "  <thead>\n",
       "    <tr style=\"text-align: right;\">\n",
       "      <th></th>\n",
       "      <th>countyFIPS</th>\n",
       "      <th>County Name</th>\n",
       "      <th>State</th>\n",
       "      <th>stateFIPS</th>\n",
       "      <th>1/22/20</th>\n",
       "      <th>1/23/20</th>\n",
       "      <th>1/24/20</th>\n",
       "      <th>1/25/20</th>\n",
       "      <th>1/26/20</th>\n",
       "      <th>1/27/20</th>\n",
       "      <th>...</th>\n",
       "      <th>7/2/20</th>\n",
       "      <th>7/3/20</th>\n",
       "      <th>7/4/20</th>\n",
       "      <th>7/5/20</th>\n",
       "      <th>7/6/20</th>\n",
       "      <th>7/7/20</th>\n",
       "      <th>7/8/20</th>\n",
       "      <th>7/9/20</th>\n",
       "      <th>7/10/20</th>\n",
       "      <th>7/11/20</th>\n",
       "    </tr>\n",
       "  </thead>\n",
       "  <tbody>\n",
       "    <tr>\n",
       "      <th>0</th>\n",
       "      <td>0</td>\n",
       "      <td>Statewide Unallocated</td>\n",
       "      <td>AL</td>\n",
       "      <td>1</td>\n",
       "      <td>0</td>\n",
       "      <td>0</td>\n",
       "      <td>0</td>\n",
       "      <td>0</td>\n",
       "      <td>0</td>\n",
       "      <td>0</td>\n",
       "      <td>...</td>\n",
       "      <td>0</td>\n",
       "      <td>0</td>\n",
       "      <td>0</td>\n",
       "      <td>0</td>\n",
       "      <td>0</td>\n",
       "      <td>0</td>\n",
       "      <td>0</td>\n",
       "      <td>0</td>\n",
       "      <td>0</td>\n",
       "      <td>0</td>\n",
       "    </tr>\n",
       "    <tr>\n",
       "      <th>1</th>\n",
       "      <td>1001</td>\n",
       "      <td>Autauga County</td>\n",
       "      <td>AL</td>\n",
       "      <td>1</td>\n",
       "      <td>0</td>\n",
       "      <td>0</td>\n",
       "      <td>0</td>\n",
       "      <td>0</td>\n",
       "      <td>0</td>\n",
       "      <td>0</td>\n",
       "      <td>...</td>\n",
       "      <td>13</td>\n",
       "      <td>13</td>\n",
       "      <td>13</td>\n",
       "      <td>13</td>\n",
       "      <td>13</td>\n",
       "      <td>13</td>\n",
       "      <td>13</td>\n",
       "      <td>14</td>\n",
       "      <td>15</td>\n",
       "      <td>15</td>\n",
       "    </tr>\n",
       "    <tr>\n",
       "      <th>2</th>\n",
       "      <td>1003</td>\n",
       "      <td>Baldwin County</td>\n",
       "      <td>AL</td>\n",
       "      <td>1</td>\n",
       "      <td>0</td>\n",
       "      <td>0</td>\n",
       "      <td>0</td>\n",
       "      <td>0</td>\n",
       "      <td>0</td>\n",
       "      <td>0</td>\n",
       "      <td>...</td>\n",
       "      <td>10</td>\n",
       "      <td>10</td>\n",
       "      <td>10</td>\n",
       "      <td>10</td>\n",
       "      <td>10</td>\n",
       "      <td>10</td>\n",
       "      <td>10</td>\n",
       "      <td>11</td>\n",
       "      <td>12</td>\n",
       "      <td>12</td>\n",
       "    </tr>\n",
       "    <tr>\n",
       "      <th>3</th>\n",
       "      <td>1005</td>\n",
       "      <td>Barbour County</td>\n",
       "      <td>AL</td>\n",
       "      <td>1</td>\n",
       "      <td>0</td>\n",
       "      <td>0</td>\n",
       "      <td>0</td>\n",
       "      <td>0</td>\n",
       "      <td>0</td>\n",
       "      <td>0</td>\n",
       "      <td>...</td>\n",
       "      <td>1</td>\n",
       "      <td>2</td>\n",
       "      <td>2</td>\n",
       "      <td>2</td>\n",
       "      <td>2</td>\n",
       "      <td>2</td>\n",
       "      <td>2</td>\n",
       "      <td>2</td>\n",
       "      <td>2</td>\n",
       "      <td>2</td>\n",
       "    </tr>\n",
       "    <tr>\n",
       "      <th>4</th>\n",
       "      <td>1007</td>\n",
       "      <td>Bibb County</td>\n",
       "      <td>AL</td>\n",
       "      <td>1</td>\n",
       "      <td>0</td>\n",
       "      <td>0</td>\n",
       "      <td>0</td>\n",
       "      <td>0</td>\n",
       "      <td>0</td>\n",
       "      <td>0</td>\n",
       "      <td>...</td>\n",
       "      <td>1</td>\n",
       "      <td>1</td>\n",
       "      <td>1</td>\n",
       "      <td>1</td>\n",
       "      <td>1</td>\n",
       "      <td>1</td>\n",
       "      <td>1</td>\n",
       "      <td>1</td>\n",
       "      <td>1</td>\n",
       "      <td>1</td>\n",
       "    </tr>\n",
       "  </tbody>\n",
       "</table>\n",
       "<p>5 rows × 176 columns</p>\n",
       "</div>"
      ],
      "text/plain": [
       "   countyFIPS            County Name State  stateFIPS  1/22/20  1/23/20  \\\n",
       "0           0  Statewide Unallocated    AL          1        0        0   \n",
       "1        1001         Autauga County    AL          1        0        0   \n",
       "2        1003         Baldwin County    AL          1        0        0   \n",
       "3        1005         Barbour County    AL          1        0        0   \n",
       "4        1007            Bibb County    AL          1        0        0   \n",
       "\n",
       "   1/24/20  1/25/20  1/26/20  1/27/20  ...  7/2/20  7/3/20  7/4/20  7/5/20  \\\n",
       "0        0        0        0        0  ...       0       0       0       0   \n",
       "1        0        0        0        0  ...      13      13      13      13   \n",
       "2        0        0        0        0  ...      10      10      10      10   \n",
       "3        0        0        0        0  ...       1       2       2       2   \n",
       "4        0        0        0        0  ...       1       1       1       1   \n",
       "\n",
       "   7/6/20  7/7/20  7/8/20  7/9/20  7/10/20  7/11/20  \n",
       "0       0       0       0       0        0        0  \n",
       "1      13      13      13      14       15       15  \n",
       "2      10      10      10      11       12       12  \n",
       "3       2       2       2       2        2        2  \n",
       "4       1       1       1       1        1        1  \n",
       "\n",
       "[5 rows x 176 columns]"
      ]
     },
     "execution_count": 3,
     "metadata": {},
     "output_type": "execute_result"
    }
   ],
   "source": [
    "data_deaths.head()"
   ]
  },
  {
   "cell_type": "code",
   "execution_count": 5,
   "metadata": {},
   "outputs": [],
   "source": [
    "# Function to calculate rate per day\n",
    "def perday(vin):\n",
    "    n = vin.shape[0]\n",
    "    vout = np.zeros(vin.shape)\n",
    "    vout[0] = vin[0]\n",
    "    for i in range(1,n):\n",
    "        vout[i] = vin[i]-vin[i-1]\n",
    "   \n",
    "    return vout"
   ]
  },
  {
   "cell_type": "code",
   "execution_count": 6,
   "metadata": {},
   "outputs": [],
   "source": [
    "# Cases Data Frame\n",
    "data_cases_by_state = data_cases.groupby(by=['State']).sum()\n",
    "data_cases_by_state = data_cases_by_state.reset_index()\n",
    "data_cases_by_state = data_cases_by_state.drop(['countyFIPS' , 'stateFIPS'],axis=1)\n",
    "list_states = list(data_cases_by_state['State'])\n",
    "df_tran = pd.DataFrame(columns=['Date','Cases_Sum','State'])\n",
    "for st in list_states:\n",
    "    dftemp = data_cases_by_state[data_cases_by_state['State'] == st]\n",
    "    dftemp = dftemp.drop('State',axis=1)\n",
    "    dftemp = dftemp.transpose()\n",
    "    dftemp = dftemp.reset_index()\n",
    "    dftemp = dftemp.rename(columns ={dftemp.columns[0]:'Date',dftemp.columns[1]:'Cases_Sum'},)\n",
    "    csum = np.array(dftemp['Cases_Sum'])\n",
    "    dftemp['Cases_Day'] = perday(csum)\n",
    "    dftemp['State']=st\n",
    "    df_tran = df_tran.append(dftemp, sort=False)\n",
    "  "
   ]
  },
  {
   "cell_type": "code",
   "execution_count": 7,
   "metadata": {},
   "outputs": [],
   "source": [
    "# Death Data Frame\n",
    "data_deaths_by_state = data_deaths.groupby(by=['State']).sum()\n",
    "data_deaths_by_state = data_deaths_by_state.reset_index()\n",
    "data_deaths_by_state = data_deaths_by_state.drop(['countyFIPS' , 'stateFIPS'],axis=1)\n",
    "list_states = list(data_deaths_by_state['State'])\n",
    "df_tran2 = pd.DataFrame(columns=['Date','Deaths_Sum','State'])\n",
    "\n",
    "for st in list_states:\n",
    "    dftemp = data_deaths_by_state[data_deaths_by_state['State'] == st]\n",
    "    dftemp = dftemp.drop('State',axis=1)\n",
    "    dftemp = dftemp.transpose()\n",
    "    dftemp = dftemp.reset_index()\n",
    "    dftemp = dftemp.rename(columns ={dftemp.columns[0]:'Date',dftemp.columns[1]:'Deaths_Sum'},)\n",
    "    csum = np.array(dftemp['Deaths_Sum'])\n",
    "    dftemp['Deaths_Day'] = perday(csum)\n",
    "    dftemp['State']=st\n",
    "    df_tran2 = df_tran2.append(dftemp, sort=False)"
   ]
  },
  {
   "cell_type": "code",
   "execution_count": 8,
   "metadata": {},
   "outputs": [
    {
     "data": {
      "image/png": "[encoded data removed]",
      "text/plain": [
       "<Figure size 432x288 with 1 Axes>"
      ]
     },
     "metadata": {
      "needs_background": "light"
     },
     "output_type": "display_data"
    },
    {
     "data": {
      "image/png": "[encoded data removed]",
      "text/plain": [
       "<Figure size 432x288 with 1 Axes>"
      ]
     },
     "metadata": {
      "needs_background": "light"
     },
     "output_type": "display_data"
    }
   ],
   "source": [
    "st = 'NY'\n",
    "df_tran[df_tran['State'] == st].plot(x='Date',y='Cases_Day')\n",
    "df_tran2[df_tran2['State'] == st].plot(x='Date',y='Deaths_Day')\n",
    "plt.show()"
   ]
  },
  {
   "cell_type": "code",
   "execution_count": 9,
   "metadata": {},
   "outputs": [],
   "source": [
    "df_tran2.to_csv('covid_death_proccessed.csv')\n",
    "df_tran.to_csv('covid_cases_proccessed.csv')"
   ]
  }
 ],
 "metadata": {
  "kernelspec": {
   "display_name": "Python 3",
   "language": "python",
   "name": "python3"
  },
  "language_info": {
   "codemirror_mode": {
    "name": "ipython",
    "version": 3
   },
   "file_extension": ".py",
   "mimetype": "text/x-python",
   "name": "python",
   "nbconvert_exporter": "python",
   "pygments_lexer": "ipython3",
   "version": "3.7.3"
  }
 },
 "nbformat": 4,
 "nbformat_minor": 2
}
